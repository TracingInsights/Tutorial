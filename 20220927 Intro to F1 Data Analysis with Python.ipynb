{
 "cells": [
  {
   "cell_type": "markdown",
   "id": "a91d4cf3",
   "metadata": {},
   "source": [
    "# Intro to Formula 1 Data Analysis with Python"
   ]
  },
  {
   "cell_type": "markdown",
   "id": "6eddf000",
   "metadata": {},
   "source": [
    "Jupyter notebooks have a lot of useful shortcuts:\n",
    "- 'M' will convert a cell to Markdown\n",
    "- 'A' will insert a cell Above the current one\n",
    "- 'B' will insert a cell Below the current one \n",
    "- 'DD' will delete a cell\n",
    "- 'C' will copy a cell\n",
    "- 'X' will cut a cell\n",
    "- 'V' will paste a cell\n",
    "\n",
    "- 'Shift + Enter' will run a cell and move to the next one\n",
    "- 'Control + Enter' will run a cell and stay in the current one"
   ]
  },
  {
   "cell_type": "markdown",
   "id": "17e0a51a",
   "metadata": {},
   "source": [
    "## 0. Setting everything up"
   ]
  },
  {
   "cell_type": "code",
   "execution_count": null,
   "id": "a0c144ab",
   "metadata": {},
   "outputs": [],
   "source": [
    "import fastf1 as ff1\n",
    "from fastf1 import plotting\n",
    "from matplotlib import pyplot as plt\n",
    "import pandas as pd\n",
    "import numpy as np\n",
    "from matplotlib.colors import ListedColormap\n",
    "from matplotlib.collections import LineCollection\n"
   ]
  },
  {
   "cell_type": "code",
   "execution_count": null,
   "id": "5f4f8e0a",
   "metadata": {},
   "outputs": [],
   "source": [
    "# Set the cache directory (make sure to create a folder called 'cache' in the SAME folder as this script)\n",
    "ff1.Cache.enable_cache('cache')\n",
    "\n",
    "# Enable the fastf1 matplotlib settings\n",
    "ff1.plotting.setup_mpl()"
   ]
  },
  {
   "cell_type": "code",
   "execution_count": null,
   "id": "3fb5a811",
   "metadata": {},
   "outputs": [],
   "source": [
    "# Load the session and its laps\n",
    "session = ff1.get_session(2022, 'Zandvoort', 'Q')\n",
    "session.load()"
   ]
  },
  {
   "cell_type": "markdown",
   "id": "828d2705",
   "metadata": {},
   "source": [
    "## 1. Exploring the data"
   ]
  },
  {
   "cell_type": "code",
   "execution_count": null,
   "id": "2d7e24c4",
   "metadata": {},
   "outputs": [],
   "source": [
    "# Explore the lap data\n",
    "session.laps"
   ]
  },
  {
   "cell_type": "code",
   "execution_count": null,
   "id": "ac917753",
   "metadata": {},
   "outputs": [],
   "source": [
    "# Finding laps of a specific driver \n",
    "laps_lat = session.laps.pick_driver('LAT')\n",
    "laps_lat"
   ]
  },
  {
   "cell_type": "code",
   "execution_count": null,
   "id": "f88b9616",
   "metadata": {},
   "outputs": [],
   "source": [
    "# Finding fastest lap of a driver \n",
    "laps_lat.pick_fastest()"
   ]
  },
  {
   "cell_type": "code",
   "execution_count": null,
   "id": "9fc5c379",
   "metadata": {
    "scrolled": false
   },
   "outputs": [],
   "source": [
    "laps_lat.pick_fastest().get_telemetry()"
   ]
  },
  {
   "cell_type": "code",
   "execution_count": null,
   "id": "e4894c74",
   "metadata": {},
   "outputs": [],
   "source": [
    "# Lap is 73 seconds \n",
    "# We have 573 rows\n",
    "# That's almost 8 data points per second!\n",
    "573/73"
   ]
  },
  {
   "cell_type": "markdown",
   "id": "ca55285e",
   "metadata": {},
   "source": [
    "# 2. Let's build some plots"
   ]
  },
  {
   "cell_type": "code",
   "execution_count": null,
   "id": "ec8d5d6a",
   "metadata": {},
   "outputs": [],
   "source": [
    "# Specify the drivers we want to compare\n",
    "driver_1, driver_2 = 'VET', 'NOR'"
   ]
  },
  {
   "cell_type": "code",
   "execution_count": null,
   "id": "d1476aeb",
   "metadata": {},
   "outputs": [],
   "source": [
    "# Find the laps\n",
    "laps_driver_1 = session.laps.pick_driver(driver_1)\n",
    "laps_driver_2 = session.laps.pick_driver(driver_2)\n",
    "\n",
    "fastest_driver_1 = laps_driver_1.pick_fastest()\n",
    "fastest_driver_2 = laps_driver_2.pick_fastest()\n",
    "\n",
    "telemetry_driver_1 = fastest_driver_1.get_telemetry()\n",
    "telemetry_driver_2 = fastest_driver_2.get_telemetry()"
   ]
  },
  {
   "cell_type": "markdown",
   "id": "0c326354",
   "metadata": {},
   "source": [
    "https://theoehrly.github.io/Fast-F1/utils.html"
   ]
  },
  {
   "cell_type": "code",
   "execution_count": null,
   "id": "6907dd10",
   "metadata": {},
   "outputs": [],
   "source": [
    "# Get the gap (delta time) between driver 1 and driver 2\n",
    "delta_time, ref_tel, compare_tel = ff1.utils.delta_time(fastest_driver_1, fastest_driver_2)"
   ]
  },
  {
   "cell_type": "code",
   "execution_count": null,
   "id": "de22599c",
   "metadata": {},
   "outputs": [],
   "source": [
    "# Identify team colors\n",
    "team_driver_1 = laps_driver_1['Team'].iloc[0]\n",
    "team_driver_2 = laps_driver_2['Team'].iloc[0]\n",
    "\n",
    "# Fastf1 has a built-in function for the team colors!\n",
    "color_1 = ff1.plotting.team_color(team_driver_1)\n",
    "color_2 = ff1.plotting.team_color(team_driver_2)"
   ]
  },
  {
   "cell_type": "markdown",
   "id": "f724be9a",
   "metadata": {},
   "source": [
    "### 2.1 Telemetry comparison"
   ]
  },
  {
   "cell_type": "code",
   "execution_count": null,
   "id": "8e091409",
   "metadata": {},
   "outputs": [],
   "source": [
    "# Set the size of the plot\n",
    "plt.rcParams['figure.figsize'] = [20, 15]\n",
    "\n",
    "# Our plot will consist of 7 \"subplots\":\n",
    "#     - Delta\n",
    "#     - Speed\n",
    "#     - Throttle\n",
    "#     - Braking\n",
    "#     - Gear\n",
    "#     - RPM\n",
    "#     - DRS\n",
    "fig, ax = plt.subplots(7, gridspec_kw={'height_ratios': [1, 3, 2, 1, 1, 2, 1]})\n",
    "\n",
    "# Set the title of the plot\n",
    "ax[0].title.set_text(f\"Telemetry comparison {driver_1} vs. {driver_2}\")\n",
    "\n",
    "# Subplot 1: The delta\n",
    "ax[0].plot(ref_tel['Distance'], delta_time, color=color_1)\n",
    "ax[0].axhline(0)\n",
    "ax[0].set(ylabel=f\"Gap to {driver_2} (s)\")\n",
    "\n",
    "# Subplot 2: Distance\n",
    "ax[1].plot(telemetry_driver_1['Distance'], telemetry_driver_1['Speed'], label=driver_1, color=color_1)\n",
    "ax[1].plot(telemetry_driver_2['Distance'], telemetry_driver_2['Speed'], label=driver_2, color=color_2)\n",
    "ax[1].set(ylabel='Speed')\n",
    "ax[1].legend(loc=\"lower right\")\n",
    "\n",
    "# Subplot 3: Throttle\n",
    "ax[2].plot(telemetry_driver_1['Distance'], telemetry_driver_1['Throttle'], label=driver_1, color=color_1)\n",
    "ax[2].plot(telemetry_driver_2['Distance'], telemetry_driver_2['Throttle'], label=driver_2, color=color_2)\n",
    "ax[2].set(ylabel='Throttle')\n",
    "\n",
    "# Subplot 4: Brake\n",
    "ax[3].plot(telemetry_driver_1['Distance'], telemetry_driver_1['Brake'], label=driver_1, color=color_1)\n",
    "ax[3].plot(telemetry_driver_2['Distance'], telemetry_driver_2['Brake'], label=driver_2, color=color_2)\n",
    "ax[3].set(ylabel='Brake')\n",
    "\n",
    "# Subplot 5: Gear\n",
    "ax[4].plot(telemetry_driver_1['Distance'], telemetry_driver_1['nGear'], label=driver_1, color=color_1)\n",
    "ax[4].plot(telemetry_driver_2['Distance'], telemetry_driver_2['nGear'], label=driver_2, color=color_2)\n",
    "ax[4].set(ylabel='Gear')\n",
    "\n",
    "# Subplot 6: RPM\n",
    "ax[5].plot(telemetry_driver_1['Distance'], telemetry_driver_1['RPM'], label=driver_1, color=color_1)\n",
    "ax[5].plot(telemetry_driver_2['Distance'], telemetry_driver_2['RPM'], label=driver_2, color=color_2)\n",
    "ax[5].set(ylabel='RPM')\n",
    "\n",
    "# Subplot 7: DRS\n",
    "ax[6].plot(telemetry_driver_1['Distance'], telemetry_driver_1['DRS'], label=driver_1, color=color_1)\n",
    "ax[6].plot(telemetry_driver_2['Distance'], telemetry_driver_2['DRS'], label=driver_2, color=color_2)\n",
    "ax[6].set(ylabel='DRS')\n",
    "ax[6].set(xlabel='Lap distance (meters)')\n",
    "\n",
    "# Hide x labels and tick labels for top plots and y ticks for right plots.\n",
    "for a in ax.flat:\n",
    "    a.label_outer()"
   ]
  },
  {
   "cell_type": "markdown",
   "id": "f062c75d",
   "metadata": {},
   "source": [
    "### 2.2 Minisector comparison"
   ]
  },
  {
   "cell_type": "code",
   "execution_count": null,
   "id": "2f9d79bf",
   "metadata": {},
   "outputs": [],
   "source": [
    "# Merge the telemetry from both drivers into one dataframe\n",
    "telemetry_driver_1['Driver'] = driver_1\n",
    "telemetry_driver_2['Driver'] = driver_2\n",
    "\n",
    "telemetry = pd.concat([telemetry_driver_1, telemetry_driver_2])"
   ]
  },
  {
   "cell_type": "code",
   "execution_count": null,
   "id": "93a17694",
   "metadata": {},
   "outputs": [],
   "source": [
    "# Calculate minisectors\n",
    "num_minisectors = 25\n",
    "total_distance = max(telemetry['Distance'])\n",
    "minisector_length = total_distance / num_minisectors\n",
    "\n",
    "minisectors = [0]\n",
    "\n",
    "for i in range(0, (num_minisectors - 1)):\n",
    "    minisectors.append(minisector_length * (i + 1))\n",
    "\n",
    "# Assign a minisector number to every row in the telemetry dataframe\n",
    "telemetry['Minisector'] = telemetry['Distance'].apply(\n",
    "    lambda dist: (\n",
    "        int((dist // minisector_length) + 1)\n",
    "    )\n",
    ")"
   ]
  },
  {
   "cell_type": "code",
   "execution_count": null,
   "id": "08434773",
   "metadata": {},
   "outputs": [],
   "source": [
    "# Calculate minisector speeds per driver\n",
    "average_speed = telemetry.groupby(['Minisector', 'Driver'])['Speed'].mean().reset_index()\n",
    "\n",
    "# Per minisector, find the fastest driver\n",
    "fastest_driver = average_speed.loc[average_speed.groupby(['Minisector'])['Speed'].idxmax()]\n",
    "fastest_driver = fastest_driver[['Minisector', 'Driver']].rename(columns={'Driver': 'Fastest_driver'})\n",
    "\n",
    "# Merge the fastest_driver dataframe to the telemetry dataframe on minisector\n",
    "telemetry = telemetry.merge(fastest_driver, on=['Minisector'])\n",
    "telemetry = telemetry.sort_values(by=['Distance'])\n",
    "\n",
    "# Since our plot can only work with integers, we need to convert the driver abbreviations to integers (1 or 2)\n",
    "telemetry.loc[telemetry['Fastest_driver'] == driver_1, 'Fastest_driver_int'] = 1\n",
    "telemetry.loc[telemetry['Fastest_driver'] == driver_2, 'Fastest_driver_int'] = 2"
   ]
  },
  {
   "cell_type": "code",
   "execution_count": null,
   "id": "28e323b6",
   "metadata": {},
   "outputs": [],
   "source": [
    "# Get the x and y coordinates \n",
    "x = np.array(telemetry['X'].values)\n",
    "y = np.array(telemetry['Y'].values)\n",
    "\n",
    "# Convert the coordinates to points, and then concat them into segments\n",
    "points = np.array([x, y]).T.reshape(-1, 1, 2)\n",
    "segments = np.concatenate([points[:-1], points[1:]], axis=1)\n",
    "fastest_driver_array = telemetry['Fastest_driver_int'].to_numpy().astype(float)"
   ]
  },
  {
   "cell_type": "code",
   "execution_count": null,
   "id": "7c881105",
   "metadata": {},
   "outputs": [],
   "source": [
    "# The segments we just created can now be colored according to the fastest driver in a minisector\n",
    "cmap = ListedColormap([color_1, color_2])\n",
    "lc_comp = LineCollection(segments, norm=plt.Normalize(1, cmap.N+1), cmap=cmap)\n",
    "lc_comp.set_array(fastest_driver_array)\n",
    "lc_comp.set_linewidth(5)"
   ]
  },
  {
   "cell_type": "code",
   "execution_count": null,
   "id": "44216423",
   "metadata": {},
   "outputs": [],
   "source": [
    "# Create the plot \n",
    "plt.rcParams['figure.figsize'] = [18, 10]\n",
    "\n",
    "# Plot the line collection and style the plot\n",
    "plt.gca().add_collection(lc_comp)\n",
    "plt.axis('equal')\n",
    "plt.box(False)\n",
    "plt.tick_params(labelleft=False, left=False, labelbottom=False, bottom=False)\n",
    "\n",
    "# Add a colorbar for as legend\n",
    "cbar = plt.colorbar(mappable=lc_comp, boundaries=np.arange(1,4))\n",
    "cbar.set_ticks(np.arange(1.5, 9.5))\n",
    "cbar.set_ticklabels([driver_1, driver_2])"
   ]
  },
  {
   "cell_type": "code",
   "execution_count": null,
   "id": "347ce095",
   "metadata": {},
   "outputs": [],
   "source": []
  }
 ],
 "metadata": {
  "kernelspec": {
   "display_name": "Python 3 (ipykernel)",
   "language": "python",
   "name": "python3"
  },
  "language_info": {
   "codemirror_mode": {
    "name": "ipython",
    "version": 3
   },
   "file_extension": ".py",
   "mimetype": "text/x-python",
   "name": "python",
   "nbconvert_exporter": "python",
   "pygments_lexer": "ipython3",
   "version": "3.9.7"
  }
 },
 "nbformat": 4,
 "nbformat_minor": 5
}
